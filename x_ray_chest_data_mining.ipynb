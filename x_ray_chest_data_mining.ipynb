{
  "nbformat": 4,
  "nbformat_minor": 0,
  "metadata": {
    "colab": {
      "provenance": [],
      "mount_file_id": "1Df8IZBB_2aFnuDYrW63Hm9rqs4eXhNsX",
      "authorship_tag": "ABX9TyN+KL6YwKnJ9wLDq9ZODAFD",
      "include_colab_link": true
    },
    "kernelspec": {
      "name": "python3",
      "display_name": "Python 3"
    },
    "language_info": {
      "name": "python"
    }
  },
  "cells": [
    {
      "cell_type": "markdown",
      "metadata": {
        "id": "view-in-github",
        "colab_type": "text"
      },
      "source": [
        "<a href=\"https://colab.research.google.com/github/luanc202/data-mining-tb-chest-analysis/blob/main/x_ray_chest_data_mining.ipynb\" target=\"_parent\"><img src=\"https://colab.research.google.com/assets/colab-badge.svg\" alt=\"Open In Colab\"/></a>"
      ]
    },
    {
      "cell_type": "code",
      "source": [
        "# !apt-get install -y git\n",
        "\n",
        "!git clone https://github.com/luanc202/data-mining-tb-chest-analysis"
      ],
      "metadata": {
        "id": "yKi5oTrhXpQB",
        "outputId": "28246d65-a8b0-41f7-e42c-6e296e7d6d30",
        "colab": {
          "base_uri": "https://localhost:8080/"
        }
      },
      "execution_count": null,
      "outputs": [
        {
          "output_type": "stream",
          "name": "stdout",
          "text": [
            "Cloning into 'data-mining-tb-chest-analysis'...\n",
            "remote: Enumerating objects: 22, done.\u001b[K\n",
            "remote: Counting objects: 100% (22/22), done.\u001b[K\n",
            "remote: Compressing objects: 100% (16/16), done.\u001b[K\n",
            "remote: Total 22 (delta 5), reused 22 (delta 5), pack-reused 0\u001b[K\n",
            "Receiving objects: 100% (22/22), 115.52 KiB | 2.82 MiB/s, done.\n",
            "Resolving deltas: 100% (5/5), done.\n"
          ]
        }
      ]
    },
    {
      "cell_type": "code",
      "execution_count": null,
      "metadata": {
        "id": "nv8pIJXCFX5g",
        "colab": {
          "base_uri": "https://localhost:8080/"
        },
        "outputId": "1a759f7b-d6ad-4d5c-a48a-b418623e57c5"
      },
      "outputs": [
        {
          "output_type": "stream",
          "name": "stdout",
          "text": [
            "Drive already mounted at /content/drive; to attempt to forcibly remount, call drive.mount(\"/content/drive\", force_remount=True).\n"
          ]
        }
      ],
      "source": [
        "from google.colab import drive\n",
        "drive.mount('/content/drive')\n",
        "\n",
        "# bibliotecas\n",
        "import os\n",
        "import pandas as pd\n",
        "import matplotlib.pyplot as plt\n",
        "import cv2\n",
        "import seaborn as sns\n",
        "from tensorflow.keras.utils import to_categorical\n",
        "from tensorflow.keras.models import Sequential\n",
        "from tensorflow.keras.layers import Dense, Conv2D, MaxPool2D, Flatten\n",
        "from traitlets import validate\n",
        "import sklearn.model_selection\n",
        "import numpy as np\n",
        "import tensorflow as tf\n",
        "import sklearn.metrics\n",
        "from sklearn.metrics import confusion_matrix\n",
        "from sklearn.metrics import classification_report"
      ]
    },
    {
      "cell_type": "markdown",
      "source": [
        "## Preparo do path para os dados\n",
        "\n",
        "Vamos definir o caminho para as imagens e carregar os caminhos em variáveis.\n",
        "Após feita a leitura dos caminhos e salvo numa lista de string onde cada item é o caminho para uma imagem, vamos alocar para dataframes, um para cada classe.\n",
        "\n",
        "Não entendi o porquê de atribuir um label com um número inteiro arbitrário, mas optei por manter por estar presente na maioria dos estudos que encontrei. Provavelmente é para diferenciar as classes.\n",
        "\n",
        "Ao final, cria-se um dataframe com ambas classes e fazemos a leitura da imagem como matriz pela função *lambda* passada para o apply, redimensionamento da matriz imagem para 224x224 e inserida a matriz imagem redimesionada no dataframe na coluna de `mat_images`."
      ],
      "metadata": {
        "id": "o_gCDx76XI0s"
      }
    },
    {
      "cell_type": "code",
      "source": [
        "# definindo o caminho das imagens\n",
        "DATA_PATH=\"TB_Chest_Radiography_Database\"\n",
        "DATA_TRAIN_NORNAL=DATA_PATH+\"/Normal/\"\n",
        "DATA_TRAIN_Tuberculosis=DATA_PATH+\"/Tuberculosis/\"\n",
        "\n",
        "Normal_img=os.listdir(DATA_TRAIN_NORNAL)\n",
        "Tuberculosis_img=os.listdir(DATA_TRAIN_Tuberculosis)\n",
        "# DATA2_TRAIN_NORNAL=DATA2_TRAIN_NORNAL+Normal_img\n",
        "# DATA2_TEST_Tuberculosis=DATA2_TEST_Tuberculosis+Tuberculosis_img\n",
        "dnorm=pd.DataFrame(Normal_img,columns=[\"images\"])\n",
        "dnorm[\"labels\"]=0\n",
        "dnorm[\"images\"]=DATA_TRAIN_NORNAL+dnorm[\"images\"]\n",
        "\n",
        "dtuber=pd.DataFrame(Tuberculosis_img,columns=[\"images\"])\n",
        "dtuber[\"labels\"]=1\n",
        "dtuber[\"images\"]=DATA_TRAIN_Tuberculosis+dtuber[\"images\"]\n",
        "\n",
        "\n",
        "DF2=pd.concat([dnorm,dtuber],ignore_index=True)\n",
        "DF2[\"mat_images\"]=DF2['images'].apply(lambda x: cv2.resize(cv2.imread(x,0) ,( 224, 224)))\n",
        "DF2.sample(frac=1, random_state=42).reset_index(drop=True)"
      ],
      "metadata": {
        "id": "B9WTdAB6W5xR"
      },
      "execution_count": null,
      "outputs": []
    },
    {
      "cell_type": "markdown",
      "source": [
        "## Informações sobre o Dataframe"
      ],
      "metadata": {
        "id": "8QmycKjxaTbI"
      }
    },
    {
      "cell_type": "code",
      "source": [
        "DF2.info()"
      ],
      "metadata": {
        "id": "35yUyUZ2aU8Z"
      },
      "execution_count": null,
      "outputs": []
    },
    {
      "cell_type": "markdown",
      "source": [
        "## Descrição"
      ],
      "metadata": {
        "id": "-GQ2fqLOaYcI"
      }
    },
    {
      "cell_type": "code",
      "source": [
        "DF2.describe()"
      ],
      "metadata": {
        "id": "7IZeLJo2aYoL"
      },
      "execution_count": null,
      "outputs": []
    },
    {
      "cell_type": "markdown",
      "source": [
        "## Distribuição por classe"
      ],
      "metadata": {
        "id": "BcrxzmXuadTd"
      }
    },
    {
      "cell_type": "code",
      "source": [
        "cases_count = DF2['labels'].value_counts()\n",
        "print(cases_count)\n",
        "\n",
        "plt.figure(figsize=(10,8))\n",
        "sns.barplot(x=cases_count.index, y= cases_count.values)\n",
        "plt.title('Distribuição', fontsize=14)\n",
        "plt.xlabel('Classe', fontsize=12)\n",
        "plt.ylabel('Contagem', fontsize=12)\n",
        "plt.xticks(range(len(cases_count.index)), ['Normal(0)', 'Tuberculosis(1)'])\n",
        "plt.show()"
      ],
      "metadata": {
        "id": "wTGmR8d7adq5"
      },
      "execution_count": null,
      "outputs": []
    }
  ]
}