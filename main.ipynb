{
 "cells": [
  {
   "cell_type": "code",
   "execution_count": 4,
   "metadata": {},
   "outputs": [],
   "source": [
    "# bibliotecas\n",
    "import os\n",
    "import pandas as pd\n",
    "import matplotlib.pyplot as plt\n",
    "import cv2\n",
    "# from tensorflow.keras.utils import to_categorical\n",
    "# from tensorflow.keras.models import Sequential\n",
    "# from tensorflow.keras.layers import Dense, Conv2D, MaxPool2D, Flatten\n",
    "# from traitlets import validate\n",
    "import sklearn.model_selection\n",
    "import numpy as np\n",
    "# import tensorflow as tf\n",
    "import sklearn.metrics\n",
    "from sklearn.metrics import confusion_matrix\n",
    "from sklearn.metrics import classification_report"
   ]
  },
  {
   "cell_type": "code",
   "execution_count": 5,
   "metadata": {},
   "outputs": [
    {
     "ename": "FileNotFoundError",
     "evalue": "[Errno 2] No such file or directory: '/TB_Chest_Radiography_Database/Normal/'",
     "output_type": "error",
     "traceback": [
      "\u001b[0;31m---------------------------------------------------------------------------\u001b[0m",
      "\u001b[0;31mFileNotFoundError\u001b[0m                         Traceback (most recent call last)",
      "\u001b[1;32m/run/media/luan/HDDS/Dev-Projects/mineracao-de-dados-project/main.ipynb Cell 2\u001b[0m line \u001b[0;36m6\n\u001b[1;32m      <a href='vscode-notebook-cell:/run/media/luan/HDDS/Dev-Projects/mineracao-de-dados-project/main.ipynb#W1sZmlsZQ%3D%3D?line=2'>3</a>\u001b[0m DATA_TRAIN_NORNAL\u001b[39m=\u001b[39mDATA_PATH\u001b[39m+\u001b[39m\u001b[39m\"\u001b[39m\u001b[39m/Normal/\u001b[39m\u001b[39m\"\u001b[39m\n\u001b[1;32m      <a href='vscode-notebook-cell:/run/media/luan/HDDS/Dev-Projects/mineracao-de-dados-project/main.ipynb#W1sZmlsZQ%3D%3D?line=3'>4</a>\u001b[0m DATA_TRAIN_Tuberculosis\u001b[39m=\u001b[39mDATA_PATH\u001b[39m+\u001b[39m\u001b[39m\"\u001b[39m\u001b[39m/Tuberculosis/\u001b[39m\u001b[39m\"\u001b[39m\n\u001b[0;32m----> <a href='vscode-notebook-cell:/run/media/luan/HDDS/Dev-Projects/mineracao-de-dados-project/main.ipynb#W1sZmlsZQ%3D%3D?line=5'>6</a>\u001b[0m Normal_img\u001b[39m=\u001b[39mos\u001b[39m.\u001b[39;49mlistdir(DATA_TRAIN_NORNAL)\n\u001b[1;32m      <a href='vscode-notebook-cell:/run/media/luan/HDDS/Dev-Projects/mineracao-de-dados-project/main.ipynb#W1sZmlsZQ%3D%3D?line=6'>7</a>\u001b[0m Tuberculosis_img\u001b[39m=\u001b[39mos\u001b[39m.\u001b[39mlistdir(DATA_TRAIN_Tuberculosis)\n\u001b[1;32m      <a href='vscode-notebook-cell:/run/media/luan/HDDS/Dev-Projects/mineracao-de-dados-project/main.ipynb#W1sZmlsZQ%3D%3D?line=7'>8</a>\u001b[0m \u001b[39m# DATA2_TRAIN_NORNAL=DATA2_TRAIN_NORNAL+Normal_img\u001b[39;00m\n\u001b[1;32m      <a href='vscode-notebook-cell:/run/media/luan/HDDS/Dev-Projects/mineracao-de-dados-project/main.ipynb#W1sZmlsZQ%3D%3D?line=8'>9</a>\u001b[0m \u001b[39m# DATA2_TEST_Tuberculosis=DATA2_TEST_Tuberculosis+Tuberculosis_img\u001b[39;00m\n",
      "\u001b[0;31mFileNotFoundError\u001b[0m: [Errno 2] No such file or directory: '/TB_Chest_Radiography_Database/Normal/'"
     ]
    }
   ],
   "source": [
    "# definindo o caminho das imagens\n",
    "DATA_PATH=\"TB_Chest_Radiography_Database\"\n",
    "DATA_TRAIN_NORNAL=DATA_PATH+\"/Normal/\"\n",
    "DATA_TRAIN_Tuberculosis=DATA_PATH+\"/Tuberculosis/\"\n",
    "\n",
    "Normal_img=os.listdir(DATA_TRAIN_NORNAL)\n",
    "Tuberculosis_img=os.listdir(DATA_TRAIN_Tuberculosis)\n",
    "# DATA2_TRAIN_NORNAL=DATA2_TRAIN_NORNAL+Normal_img\n",
    "# DATA2_TEST_Tuberculosis=DATA2_TEST_Tuberculosis+Tuberculosis_img\n",
    "dnorm=pd.DataFrame(Normal_img,columns=[\"images\"])\n",
    "dnorm[\"labels\"]=1\n",
    "dnorm[\"images\"]=DATA_TRAIN_NORNAL+dnorm[\"images\"]\n",
    "\n",
    "dtuber=pd.DataFrame(Tuberculosis_img,columns=[\"images\"])\n",
    "dtuber[\"labels\"]=3\n",
    "dtuber[\"images\"]=DATA_TRAIN_Tuberculosis+dtuber[\"images\"]\n",
    "\n",
    "\n",
    "DF2=pd.concat([dnorm,dtuber],ignore_index=True)\n",
    "DF2[\"mat_images\"]=DF2['images'].apply(lambda x: cv2.resize(cv2.imread(x,0) ,( 224, 224)))\n",
    "DF2.sample(frac=1, random_state=42).reset_index(drop=True)"
   ]
  }
 ],
 "metadata": {
  "kernelspec": {
   "display_name": "mineracao-de-dados-project-F4JMFYLZ",
   "language": "python",
   "name": "python3"
  },
  "language_info": {
   "codemirror_mode": {
    "name": "ipython",
    "version": 3
   },
   "file_extension": ".py",
   "mimetype": "text/x-python",
   "name": "python",
   "nbconvert_exporter": "python",
   "pygments_lexer": "ipython3",
   "version": "3.11.6"
  }
 },
 "nbformat": 4,
 "nbformat_minor": 2
}
