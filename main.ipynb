{
 "cells": [
  {
   "cell_type": "code",
   "execution_count": 20,
   "metadata": {},
   "outputs": [],
   "source": [
    "# bibliotecas\n",
    "import os\n",
    "import pandas as pd\n",
    "import matplotlib.pyplot as plt\n",
    "import cv2\n",
    "import seaborn as sns\n",
    "# from tensorflow.keras.utils import to_categorical\n",
    "# from tensorflow.keras.models import Sequential\n",
    "# from tensorflow.keras.layers import Dense, Conv2D, MaxPool2D, Flatten\n",
    "# from traitlets import validate\n",
    "import sklearn.model_selection\n",
    "import numpy as np\n",
    "# import tensorflow as tf\n",
    "import sklearn.metrics\n",
    "from sklearn.metrics import confusion_matrix\n",
    "from sklearn.metrics import classification_report"
   ]
  },
  {
   "cell_type": "markdown",
   "metadata": {},
   "source": [
    "## Preparo do path para os dados\n",
    "\n",
    "Vamos definir o caminho para as imagens e carregar os caminhos em variáveis.\n",
    "Após feita a leitura dos caminhos e salvo numa lista de string onde cada item é o caminho para uma imagem, vamos alocar para dataframes, um para cada classe.\n",
    "\n",
    "Não entendi o porquê de atribuir um label com um número inteiro arbitrário, mas optei por manter por estar presente na maioria dos estudos que encontrei. Provavelmente é para diferenciar as classes.\n",
    "\n",
    "Ao final, cria-se um dataframe com ambas classes e fazemos a leitura da imagem como matriz pela função *lambda* passada para o apply, redimensionamento da matriz imagem para 224x224 e inserida a matriz imagem redimesionada no dataframe na coluna de `mat_images`."
   ]
  },
  {
   "cell_type": "code",
   "execution_count": 23,
   "metadata": {},
   "outputs": [
    {
     "data": {
      "text/html": [
       "<div>\n",
       "<style scoped>\n",
       "    .dataframe tbody tr th:only-of-type {\n",
       "        vertical-align: middle;\n",
       "    }\n",
       "\n",
       "    .dataframe tbody tr th {\n",
       "        vertical-align: top;\n",
       "    }\n",
       "\n",
       "    .dataframe thead th {\n",
       "        text-align: right;\n",
       "    }\n",
       "</style>\n",
       "<table border=\"1\" class=\"dataframe\">\n",
       "  <thead>\n",
       "    <tr style=\"text-align: right;\">\n",
       "      <th></th>\n",
       "      <th>images</th>\n",
       "      <th>labels</th>\n",
       "      <th>mat_images</th>\n",
       "    </tr>\n",
       "  </thead>\n",
       "  <tbody>\n",
       "    <tr>\n",
       "      <th>0</th>\n",
       "      <td>TB_Chest_Radiography_Database/Normal/Normal-25...</td>\n",
       "      <td>0</td>\n",
       "      <td>[[0, 0, 0, 0, 0, 0, 0, 0, 0, 0, 0, 0, 0, 0, 0,...</td>\n",
       "    </tr>\n",
       "    <tr>\n",
       "      <th>1</th>\n",
       "      <td>TB_Chest_Radiography_Database/Normal/Normal-29...</td>\n",
       "      <td>0</td>\n",
       "      <td>[[46, 45, 44, 44, 43, 43, 41, 41, 40, 42, 40, ...</td>\n",
       "    </tr>\n",
       "    <tr>\n",
       "      <th>2</th>\n",
       "      <td>TB_Chest_Radiography_Database/Normal/Normal-25...</td>\n",
       "      <td>0</td>\n",
       "      <td>[[0, 0, 0, 0, 0, 0, 0, 0, 0, 0, 0, 0, 0, 0, 0,...</td>\n",
       "    </tr>\n",
       "    <tr>\n",
       "      <th>3</th>\n",
       "      <td>TB_Chest_Radiography_Database/Normal/Normal-86...</td>\n",
       "      <td>0</td>\n",
       "      <td>[[0, 0, 0, 0, 0, 0, 0, 0, 0, 0, 0, 0, 0, 0, 0,...</td>\n",
       "    </tr>\n",
       "    <tr>\n",
       "      <th>4</th>\n",
       "      <td>TB_Chest_Radiography_Database/Normal/Normal-12...</td>\n",
       "      <td>0</td>\n",
       "      <td>[[209, 167, 163, 162, 163, 164, 163, 165, 166,...</td>\n",
       "    </tr>\n",
       "    <tr>\n",
       "      <th>...</th>\n",
       "      <td>...</td>\n",
       "      <td>...</td>\n",
       "      <td>...</td>\n",
       "    </tr>\n",
       "    <tr>\n",
       "      <th>4195</th>\n",
       "      <td>TB_Chest_Radiography_Database/Normal/Normal-94...</td>\n",
       "      <td>0</td>\n",
       "      <td>[[0, 0, 0, 0, 0, 0, 0, 0, 0, 0, 0, 0, 0, 0, 0,...</td>\n",
       "    </tr>\n",
       "    <tr>\n",
       "      <th>4196</th>\n",
       "      <td>TB_Chest_Radiography_Database/Normal/Normal-14...</td>\n",
       "      <td>0</td>\n",
       "      <td>[[0, 0, 0, 0, 0, 0, 0, 0, 0, 0, 0, 0, 0, 0, 0,...</td>\n",
       "    </tr>\n",
       "    <tr>\n",
       "      <th>4197</th>\n",
       "      <td>TB_Chest_Radiography_Database/Normal/Normal-63...</td>\n",
       "      <td>0</td>\n",
       "      <td>[[1, 1, 1, 1, 1, 1, 1, 1, 1, 1, 1, 1, 1, 1, 1,...</td>\n",
       "    </tr>\n",
       "    <tr>\n",
       "      <th>4198</th>\n",
       "      <td>TB_Chest_Radiography_Database/Tuberculosis/Tub...</td>\n",
       "      <td>1</td>\n",
       "      <td>[[36, 76, 45, 44, 35, 19, 16, 16, 16, 17, 17, ...</td>\n",
       "    </tr>\n",
       "    <tr>\n",
       "      <th>4199</th>\n",
       "      <td>TB_Chest_Radiography_Database/Normal/Normal-17...</td>\n",
       "      <td>0</td>\n",
       "      <td>[[0, 0, 0, 0, 0, 0, 0, 0, 0, 0, 0, 0, 0, 0, 0,...</td>\n",
       "    </tr>\n",
       "  </tbody>\n",
       "</table>\n",
       "<p>4200 rows × 3 columns</p>\n",
       "</div>"
      ],
      "text/plain": [
       "                                                 images  labels  \\\n",
       "0     TB_Chest_Radiography_Database/Normal/Normal-25...       0   \n",
       "1     TB_Chest_Radiography_Database/Normal/Normal-29...       0   \n",
       "2     TB_Chest_Radiography_Database/Normal/Normal-25...       0   \n",
       "3     TB_Chest_Radiography_Database/Normal/Normal-86...       0   \n",
       "4     TB_Chest_Radiography_Database/Normal/Normal-12...       0   \n",
       "...                                                 ...     ...   \n",
       "4195  TB_Chest_Radiography_Database/Normal/Normal-94...       0   \n",
       "4196  TB_Chest_Radiography_Database/Normal/Normal-14...       0   \n",
       "4197  TB_Chest_Radiography_Database/Normal/Normal-63...       0   \n",
       "4198  TB_Chest_Radiography_Database/Tuberculosis/Tub...       1   \n",
       "4199  TB_Chest_Radiography_Database/Normal/Normal-17...       0   \n",
       "\n",
       "                                             mat_images  \n",
       "0     [[0, 0, 0, 0, 0, 0, 0, 0, 0, 0, 0, 0, 0, 0, 0,...  \n",
       "1     [[46, 45, 44, 44, 43, 43, 41, 41, 40, 42, 40, ...  \n",
       "2     [[0, 0, 0, 0, 0, 0, 0, 0, 0, 0, 0, 0, 0, 0, 0,...  \n",
       "3     [[0, 0, 0, 0, 0, 0, 0, 0, 0, 0, 0, 0, 0, 0, 0,...  \n",
       "4     [[209, 167, 163, 162, 163, 164, 163, 165, 166,...  \n",
       "...                                                 ...  \n",
       "4195  [[0, 0, 0, 0, 0, 0, 0, 0, 0, 0, 0, 0, 0, 0, 0,...  \n",
       "4196  [[0, 0, 0, 0, 0, 0, 0, 0, 0, 0, 0, 0, 0, 0, 0,...  \n",
       "4197  [[1, 1, 1, 1, 1, 1, 1, 1, 1, 1, 1, 1, 1, 1, 1,...  \n",
       "4198  [[36, 76, 45, 44, 35, 19, 16, 16, 16, 17, 17, ...  \n",
       "4199  [[0, 0, 0, 0, 0, 0, 0, 0, 0, 0, 0, 0, 0, 0, 0,...  \n",
       "\n",
       "[4200 rows x 3 columns]"
      ]
     },
     "execution_count": 23,
     "metadata": {},
     "output_type": "execute_result"
    }
   ],
   "source": [
    "# definindo o caminho das imagens\n",
    "DATA_PATH=\"TB_Chest_Radiography_Database\"\n",
    "DATA_TRAIN_NORNAL=DATA_PATH+\"/Normal/\"\n",
    "DATA_TRAIN_Tuberculosis=DATA_PATH+\"/Tuberculosis/\"\n",
    "\n",
    "Normal_img=os.listdir(DATA_TRAIN_NORNAL)\n",
    "Tuberculosis_img=os.listdir(DATA_TRAIN_Tuberculosis)\n",
    "# DATA2_TRAIN_NORNAL=DATA2_TRAIN_NORNAL+Normal_img\n",
    "# DATA2_TEST_Tuberculosis=DATA2_TEST_Tuberculosis+Tuberculosis_img\n",
    "dnorm=pd.DataFrame(Normal_img,columns=[\"images\"])\n",
    "dnorm[\"labels\"]=0\n",
    "dnorm[\"images\"]=DATA_TRAIN_NORNAL+dnorm[\"images\"]\n",
    "\n",
    "dtuber=pd.DataFrame(Tuberculosis_img,columns=[\"images\"])\n",
    "dtuber[\"labels\"]=1\n",
    "dtuber[\"images\"]=DATA_TRAIN_Tuberculosis+dtuber[\"images\"]\n",
    "\n",
    "\n",
    "DF2=pd.concat([dnorm,dtuber],ignore_index=True)\n",
    "DF2[\"mat_images\"]=DF2['images'].apply(lambda x: cv2.resize(cv2.imread(x,0) ,( 224, 224)))\n",
    "DF2.sample(frac=1, random_state=42).reset_index(drop=True)"
   ]
  },
  {
   "cell_type": "markdown",
   "metadata": {},
   "source": [
    "## Informações sobre o Dataframe"
   ]
  },
  {
   "cell_type": "code",
   "execution_count": 15,
   "metadata": {},
   "outputs": [
    {
     "name": "stdout",
     "output_type": "stream",
     "text": [
      "<class 'pandas.core.frame.DataFrame'>\n",
      "RangeIndex: 4200 entries, 0 to 4199\n",
      "Data columns (total 3 columns):\n",
      " #   Column      Non-Null Count  Dtype \n",
      "---  ------      --------------  ----- \n",
      " 0   images      4200 non-null   object\n",
      " 1   labels      4200 non-null   int64 \n",
      " 2   mat_images  4200 non-null   object\n",
      "dtypes: int64(1), object(2)\n",
      "memory usage: 98.6+ KB\n"
     ]
    }
   ],
   "source": [
    "DF2.info()"
   ]
  },
  {
   "cell_type": "markdown",
   "metadata": {},
   "source": [
    "## Descrição"
   ]
  },
  {
   "cell_type": "code",
   "execution_count": 16,
   "metadata": {},
   "outputs": [
    {
     "data": {
      "text/html": [
       "<div>\n",
       "<style scoped>\n",
       "    .dataframe tbody tr th:only-of-type {\n",
       "        vertical-align: middle;\n",
       "    }\n",
       "\n",
       "    .dataframe tbody tr th {\n",
       "        vertical-align: top;\n",
       "    }\n",
       "\n",
       "    .dataframe thead th {\n",
       "        text-align: right;\n",
       "    }\n",
       "</style>\n",
       "<table border=\"1\" class=\"dataframe\">\n",
       "  <thead>\n",
       "    <tr style=\"text-align: right;\">\n",
       "      <th></th>\n",
       "      <th>labels</th>\n",
       "    </tr>\n",
       "  </thead>\n",
       "  <tbody>\n",
       "    <tr>\n",
       "      <th>count</th>\n",
       "      <td>4200.000000</td>\n",
       "    </tr>\n",
       "    <tr>\n",
       "      <th>mean</th>\n",
       "      <td>1.333333</td>\n",
       "    </tr>\n",
       "    <tr>\n",
       "      <th>std</th>\n",
       "      <td>0.745445</td>\n",
       "    </tr>\n",
       "    <tr>\n",
       "      <th>min</th>\n",
       "      <td>1.000000</td>\n",
       "    </tr>\n",
       "    <tr>\n",
       "      <th>25%</th>\n",
       "      <td>1.000000</td>\n",
       "    </tr>\n",
       "    <tr>\n",
       "      <th>50%</th>\n",
       "      <td>1.000000</td>\n",
       "    </tr>\n",
       "    <tr>\n",
       "      <th>75%</th>\n",
       "      <td>1.000000</td>\n",
       "    </tr>\n",
       "    <tr>\n",
       "      <th>max</th>\n",
       "      <td>3.000000</td>\n",
       "    </tr>\n",
       "  </tbody>\n",
       "</table>\n",
       "</div>"
      ],
      "text/plain": [
       "            labels\n",
       "count  4200.000000\n",
       "mean      1.333333\n",
       "std       0.745445\n",
       "min       1.000000\n",
       "25%       1.000000\n",
       "50%       1.000000\n",
       "75%       1.000000\n",
       "max       3.000000"
      ]
     },
     "execution_count": 16,
     "metadata": {},
     "output_type": "execute_result"
    }
   ],
   "source": [
    "DF2.describe()"
   ]
  },
  {
   "cell_type": "markdown",
   "metadata": {},
   "source": [
    "## Distribuição por classe"
   ]
  },
  {
   "cell_type": "code",
   "execution_count": 22,
   "metadata": {},
   "outputs": [
    {
     "name": "stdout",
     "output_type": "stream",
     "text": [
      "labels\n",
      "1    3500\n",
      "3     700\n",
      "Name: count, dtype: int64\n"
     ]
    },
    {
     "data": {
      "image/png": "[encoded data removed]",
      "text/plain": [
       "<Figure size 1000x800 with 1 Axes>"
      ]
     },
     "metadata": {},
     "output_type": "display_data"
    }
   ],
   "source": [
    "cases_count = DF2['labels'].value_counts()\n",
    "print(cases_count)\n",
    "\n",
    "plt.figure(figsize=(10,8))\n",
    "sns.barplot(x=cases_count.index, y= cases_count.values)\n",
    "plt.title('Distribuição', fontsize=14)\n",
    "plt.xlabel('Classe', fontsize=12)\n",
    "plt.ylabel('Contagem', fontsize=12)\n",
    "plt.xticks(range(len(cases_count.index)), ['Normal(0)', 'Tuberculosis(1)'])\n",
    "plt.show()"
   ]
  }
 ],
 "metadata": {
  "kernelspec": {
   "display_name": "mineracao-de-dados-project-F4JMFYLZ",
   "language": "python",
   "name": "python3"
  },
  "language_info": {
   "codemirror_mode": {
    "name": "ipython",
    "version": 3
   },
   "file_extension": ".py",
   "mimetype": "text/x-python",
   "name": "python",
   "nbconvert_exporter": "python",
   "pygments_lexer": "ipython3",
   "version": "3.11.6"
  }
 },
 "nbformat": 4,
 "nbformat_minor": 2
}
